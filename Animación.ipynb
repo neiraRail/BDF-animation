{
  "nbformat": 4,
  "nbformat_minor": 0,
  "metadata": {
    "colab": {
      "name": "Animación.ipynb",
      "provenance": [],
      "collapsed_sections": [],
      "authorship_tag": "ABX9TyMkIaohrgGLy/LYGPe6vfPX",
      "include_colab_link": true
    },
    "kernelspec": {
      "name": "python3",
      "display_name": "Python 3"
    },
    "language_info": {
      "name": "python"
    }
  },
  "cells": [
    {
      "cell_type": "markdown",
      "metadata": {
        "id": "view-in-github",
        "colab_type": "text"
      },
      "source": [
        "<a href=\"https://colab.research.google.com/github/neiraRail/BDF-animation/blob/main/Animaci%C3%B3n.ipynb\" target=\"_parent\"><img src=\"https://colab.research.google.com/assets/colab-badge.svg\" alt=\"Open In Colab\"/></a>"
      ]
    },
    {
      "cell_type": "markdown",
      "source": [
        "# Animación del algoritmo BFS en grafo\n",
        "\n",
        "## Grafo en cuestión:\n",
        "\n",
        "![image.png](data:image/png;base64,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)\n",
        "\n",
        "\n",
        "\n"
      ],
      "metadata": {
        "id": "S570NAkHl-pO"
      }
    },
    {
      "cell_type": "code",
      "source": [
        "graph = {\n",
        "    'a': ['b', 'c', 'd'],\n",
        "    'b': ['h', 'g'],\n",
        "    'c': ['f', 'e'],\n",
        "    'd': ['e'],\n",
        "    'e': ['k'],\n",
        "    'f': ['j'],\n",
        "    'g': ['j'],\n",
        "    'h': ['i'],\n",
        "    'i': ['o','n'],\n",
        "    'j': ['m', 'l'],\n",
        "    'k': [],\n",
        "    'l': [],\n",
        "    'm': ['p'],\n",
        "    'n': [],\n",
        "    'o': ['p'],\n",
        "    'p': [],\n",
        "}"
      ],
      "metadata": {
        "id": "IH8ZYGqgb63u"
      },
      "execution_count": 62,
      "outputs": []
    },
    {
      "cell_type": "markdown",
      "source": [
        "## Algoritmo de BFS:\n",
        "\n",
        "Este algoritmo recorre un grafo por capas, haciendo uso de una cola que va llenando con los nodos visitados y sus vecinos."
      ],
      "metadata": {
        "id": "XZI75zBvmzOX"
      }
    },
    {
      "cell_type": "code",
      "source": [
        "def bfs(graph, node): #function for BFS\n",
        "  visited = [] # Nodos visitados\n",
        "  queue = []   # Cola para el algoritmo\n",
        "  visited.append(node)\n",
        "  queue.append(node)\n",
        "\n",
        "  ruta = []  # Camino recorrido por el algoritmo\n",
        "\n",
        "  while queue:          # Bucle que visita cada nodo\n",
        "    m = queue.pop(0) \n",
        "    ruta.append(m)\n",
        "\n",
        "    for neighbour in graph[m]:\n",
        "      if neighbour not in visited:\n",
        "        visited.append(neighbour)\n",
        "        queue.append(neighbour)\n",
        "\n",
        "  return ruta"
      ],
      "metadata": {
        "id": "cROjth4pDSlW"
      },
      "execution_count": 63,
      "outputs": []
    },
    {
      "cell_type": "code",
      "source": [
        "# Ejecución del algoritmo\n",
        "ruta = bfs(graph, 'a')\n",
        "ruta"
      ],
      "metadata": {
        "id": "nNOWNIKXDo_E"
      },
      "execution_count": null,
      "outputs": []
    },
    {
      "cell_type": "markdown",
      "source": [
        "## Animación del algoritmo.\n",
        "\n",
        "- Se utiliza el módulo animation de la libreria matplotlib\n",
        "- Crea una animación ejecutando la funcion animate() en cada frame\n",
        "- En cada frame se pintan los nodos visitados segun la ruta\n",
        "- Se guarda la animación del algoritmo en el archivo Ejemplo.gif\n",
        "\n",
        "\n",
        "**Nota**: Ya que el código para animación depende unicamente de *ruta*, se puede aplicar este mismo código con otros algoritmos de búsqueda como DFS, siempre y cuando estos algoritmos retornen una lista guardad en ruta."
      ],
      "metadata": {
        "id": "v1_CehdXoPfY"
      }
    },
    {
      "cell_type": "code",
      "source": [
        "def crear_color_map(ruta_actual):\n",
        "  color_map = []\n",
        "\n",
        "  for node in G:\n",
        "    if node in ruta_actual:\n",
        "      color_map.append('orange')\n",
        "    else:\n",
        "      color_map.append('blue')\n",
        "  return color_map"
      ],
      "metadata": {
        "id": "gQVwdqRdS5gb"
      },
      "execution_count": 65,
      "outputs": []
    },
    {
      "cell_type": "code",
      "source": [
        "from networkx.drawing.nx_pylab import draw_circular\n",
        "import networkx as nx\n",
        "import matplotlib.animation as animation\n",
        "import matplotlib.pyplot as plt\n",
        "import random\n",
        "\n",
        "# Graph initialization\n",
        "G = nx.Graph(graph)\n",
        "ruta_actual = []\n",
        "\n",
        "# Animation funciton\n",
        "def animate(i):\n",
        "  ruta_actual.append(i)\n",
        "  color_map = crear_color_map(ruta_actual)\n",
        "  nx.draw_kamada_kawai(G, node_color=color_map, with_labels=True)\n",
        "\n",
        "nx.draw_kamada_kawai(G, with_labels=True)\n",
        "fig = plt.gcf()\n",
        "\n",
        "\n",
        "# Animator call\n",
        "anim = animation.FuncAnimation(fig, animate, frames=ruta, interval=80)\n",
        "\n",
        "anim.save('Ejemplo.gif', writer = \"pillow\" )"
      ],
      "metadata": {
        "colab": {
          "base_uri": "https://localhost:8080/",
          "height": 319
        },
        "id": "7exvQ2oLOUrA",
        "outputId": "92ec8410-2015-47e6-e7b4-d29e0d35e966"
      },
      "execution_count": 77,
      "outputs": [
        {
          "output_type": "display_data",
          "data": {
            "text/plain": [
              "<Figure size 432x288 with 1 Axes>"
            ],
            "image/png": "[encoded data removed]"
          },
          "metadata": {}
        }
      ]
    }
  ]
}